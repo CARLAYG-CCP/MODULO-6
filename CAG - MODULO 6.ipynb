{
 "cells": [
  {
   "cell_type": "markdown",
   "metadata": {},
   "source": [
    "#### SEMANA N°03 - MODULO 6 - IBM\n"
   ]
  },
  {
   "cell_type": "markdown",
   "metadata": {},
   "source": [
    "# TITULO CAG - MODULO 6"
   ]
  },
  {
   "cell_type": "markdown",
   "metadata": {},
   "source": [
    "## INTRODUCCION\n",
    "Introducción al Modulo 6 de Cinecias de Datos\n"
   ]
  },
  {
   "cell_type": "markdown",
   "metadata": {},
   "source": [
    "## Lenguajes de Ciencia de Datos\n",
    "- Python\n",
    "- R\n",
    "- SQL\n",
    "- Julia"
   ]
  },
  {
   "cell_type": "markdown",
   "metadata": {
    "jp-MarkdownHeadingCollapsed": true
   },
   "source": [
    "## Bibliotecas de Ciencia de Datos\n",
    "- Scala\n",
    "- R\n",
    "- SQL\n",
    "- Swift\n",
    "- Java\n",
    "- GO\n"
   ]
  },
  {
   "cell_type": "markdown",
   "metadata": {},
   "source": [
    "## Herramientas de Ciencia de Datos\n",
    "\n",
    "| Herramienta      | Descripción                              |\n",
    "|------------------|------------------------------------------|\n",
    "| Phyton           | Analisis y visualizacion de datos        |\n",
    "| SAS              | Analisis estadistico                     |\n",
    "| Power BI         | Crear informes                           |\n",
    "| Tableau          | Comprender datos de manera intuitiva     |"
   ]
  },
  {
   "cell_type": "markdown",
   "metadata": {},
   "source": [
    "## Ejemplos de Expresiones Aritméticas\n",
    "- suma: 3 + 43\n",
    "- Resta: 22 -24 \n",
    "- Multiplicación: 5 * 3\n",
    "- División: 18 / 7"
   ]
  },
  {
   "cell_type": "code",
   "execution_count": 4,
   "metadata": {},
   "outputs": [
    {
     "data": {
      "text/plain": [
       "(41, 288)"
      ]
     },
     "execution_count": 4,
     "metadata": {},
     "output_type": "execute_result"
    }
   ],
   "source": [
    "# Ejemplo de código para multiplicar y sumar números\n",
    "a = 32\n",
    "b = 9\n",
    "suma = a + b\n",
    "producto = a * b\n",
    "\n",
    "suma, producto\n"
   ]
  },
  {
   "cell_type": "code",
   "execution_count": 6,
   "metadata": {},
   "outputs": [
    {
     "data": {
      "text/plain": [
       "9.466666666666667"
      ]
     },
     "execution_count": 6,
     "metadata": {},
     "output_type": "execute_result"
    }
   ],
   "source": [
    "# Función para convertir minutos a horas\n",
    "def convertir_minutos_a_horas(minutos):\n",
    "    horas = minutos / 60\n",
    "    return horas\n",
    "\n",
    "convertir_minutos_a_horas(568)  # Ejemplo: convertir 568 minutos a horas\n"
   ]
  },
  {
   "cell_type": "markdown",
   "metadata": {
    "jp-MarkdownHeadingCollapsed": true
   },
   "source": [
    "## Objetivos\n",
    "1. CREAR el lenguaje de la programacion\n",
    "2. APRENDER como programar a traves de herramientas de analisis.\n",
    "3. CONOCER como sacar el mayor potencial a los datos.\n"
   ]
  },
  {
   "cell_type": "markdown",
   "metadata": {},
   "source": [
    "## Autor\n",
    "Carla Yañez Garces\n"
   ]
  },
  {
   "cell_type": "code",
   "execution_count": null,
   "metadata": {},
   "outputs": [],
   "source": []
  }
 ],
 "metadata": {
  "kernelspec": {
   "display_name": "Python 3 (ipykernel)",
   "language": "python",
   "name": "python3"
  },
  "language_info": {
   "codemirror_mode": {
    "name": "ipython",
    "version": 3
   },
   "file_extension": ".py",
   "mimetype": "text/x-python",
   "name": "python",
   "nbconvert_exporter": "python",
   "pygments_lexer": "ipython3",
   "version": "3.11.9"
  }
 },
 "nbformat": 4,
 "nbformat_minor": 4
}
